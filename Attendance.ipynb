{
 "cells": [
  {
   "cell_type": "markdown",
   "id": "a8f9cf91-a72e-4c29-bf27-ef318df1db3b",
   "metadata": {},
   "source": [
    "# FACIAL RECOGNITION ATTENDANCE SYSTEM USING PYTHON"
   ]
  },
  {
   "cell_type": "markdown",
   "id": "5e2625b3-c5d5-4801-ba61-86dc14af0986",
   "metadata": {},
   "source": [
    "The aim of this project is how to use face as an authentication system for an attendance system"
   ]
  },
  {
   "cell_type": "markdown",
   "id": "fb773318-97af-4b2d-b31b-75c318a804a3",
   "metadata": {},
   "source": [
    "## INSTALLING REQUIRED PACKAGES"
   ]
  },
  {
   "cell_type": "code",
   "execution_count": 1,
   "id": "28e7bb1f-2f6a-40d7-8151-cd28d06d30db",
   "metadata": {},
   "outputs": [
    {
     "name": "stdout",
     "output_type": "stream",
     "text": [
      "Requirement already satisfied: opencv-python in /Users/bhadrinath/opt/anaconda3/lib/python3.8/site-packages (4.7.0.68)\n",
      "Requirement already satisfied: numpy>=1.17.0 in /Users/bhadrinath/opt/anaconda3/lib/python3.8/site-packages (from opencv-python) (1.24.2)\n",
      "Note: you may need to restart the kernel to use updated packages.\n"
     ]
    }
   ],
   "source": [
    "pip install opencv-python"
   ]
  },
  {
   "cell_type": "code",
   "execution_count": 2,
   "id": "4b5a3a49-9beb-4407-a6b6-dd53c93d983a",
   "metadata": {},
   "outputs": [
    {
     "name": "stdout",
     "output_type": "stream",
     "text": [
      "Requirement already satisfied: pyproject in /Users/bhadrinath/opt/anaconda3/lib/python3.8/site-packages (1.3.1)\n",
      "Requirement already satisfied: Jinja2 in /Users/bhadrinath/opt/anaconda3/lib/python3.8/site-packages (from pyproject) (3.1.2)\n",
      "Requirement already satisfied: MarkupSafe>=2.0 in /Users/bhadrinath/opt/anaconda3/lib/python3.8/site-packages (from Jinja2->pyproject) (2.1.1)\n",
      "Note: you may need to restart the kernel to use updated packages.\n"
     ]
    }
   ],
   "source": [
    "pip install pyproject"
   ]
  },
  {
   "cell_type": "code",
   "execution_count": 3,
   "id": "76dcb2a5-23cd-4df5-ac10-4e261a2a3c27",
   "metadata": {},
   "outputs": [
    {
     "name": "stdout",
     "output_type": "stream",
     "text": [
      "Requirement already satisfied: Cmake in /Users/bhadrinath/opt/anaconda3/lib/python3.8/site-packages (3.26.3)\n",
      "Note: you may need to restart the kernel to use updated packages.\n"
     ]
    }
   ],
   "source": [
    "pip install Cmake"
   ]
  },
  {
   "cell_type": "code",
   "execution_count": 4,
   "id": "fe923e0e-7447-46f6-9653-258404b30e2e",
   "metadata": {},
   "outputs": [
    {
     "name": "stdout",
     "output_type": "stream",
     "text": [
      "Requirement already satisfied: dlib in /Users/bhadrinath/opt/anaconda3/lib/python3.8/site-packages (19.24.1)\n",
      "Note: you may need to restart the kernel to use updated packages.\n"
     ]
    }
   ],
   "source": [
    "pip install dlib"
   ]
  },
  {
   "cell_type": "code",
   "execution_count": 5,
   "id": "847b88fe-bdd8-42eb-bdb5-8de6fc681eec",
   "metadata": {},
   "outputs": [
    {
     "name": "stdout",
     "output_type": "stream",
     "text": [
      "Requirement already satisfied: face_recognition in /Users/bhadrinath/opt/anaconda3/lib/python3.8/site-packages (1.3.0)\n",
      "Requirement already satisfied: face-recognition-models>=0.3.0 in /Users/bhadrinath/opt/anaconda3/lib/python3.8/site-packages (from face_recognition) (0.3.0)\n",
      "Requirement already satisfied: Click>=6.0 in /Users/bhadrinath/opt/anaconda3/lib/python3.8/site-packages (from face_recognition) (8.1.3)\n",
      "Requirement already satisfied: dlib>=19.7 in /Users/bhadrinath/opt/anaconda3/lib/python3.8/site-packages (from face_recognition) (19.24.1)\n",
      "Requirement already satisfied: numpy in /Users/bhadrinath/opt/anaconda3/lib/python3.8/site-packages (from face_recognition) (1.24.2)\n",
      "Requirement already satisfied: Pillow in /Users/bhadrinath/opt/anaconda3/lib/python3.8/site-packages (from face_recognition) (9.4.0)\n",
      "Note: you may need to restart the kernel to use updated packages.\n"
     ]
    }
   ],
   "source": [
    "pip install face_recognition"
   ]
  },
  {
   "cell_type": "code",
   "execution_count": 6,
   "id": "f581cee7-e863-49f8-a977-af97b1cd27ac",
   "metadata": {},
   "outputs": [
    {
     "name": "stdout",
     "output_type": "stream",
     "text": [
      "Requirement already satisfied: wrapt in /Users/bhadrinath/opt/anaconda3/lib/python3.8/site-packages (1.15.0)\n",
      "Note: you may need to restart the kernel to use updated packages.\n"
     ]
    }
   ],
   "source": [
    "pip install wrapt"
   ]
  },
  {
   "cell_type": "markdown",
   "id": "2a9f73f0-0559-4de3-8626-309f4ec3e4ba",
   "metadata": {},
   "source": [
    "## CODE EXPLANATION"
   ]
  },
  {
   "cell_type": "markdown",
   "id": "6d70513a-aa89-4ad8-9e6b-d2910097555e",
   "metadata": {},
   "source": [
    "Import required libraries"
   ]
  },
  {
   "cell_type": "code",
   "execution_count": 1,
   "id": "a89d48af-ca19-4747-ae5a-25ffe68f8fe2",
   "metadata": {},
   "outputs": [],
   "source": [
    "import face_recognition\n",
    "import cv2\n",
    "import numpy as np\n",
    "import csv\n",
    "import os\n",
    "from datetime import datetime"
   ]
  },
  {
   "cell_type": "markdown",
   "id": "23c2f743-2f53-4382-8482-8119e0e0942e",
   "metadata": {
    "tags": []
   },
   "source": [
    "###### face_recognition is an ai model that scans and recognize human faces, \n",
    "###### cv2 is opencv-python package, \n",
    "###### csv will be used for manipulating data in csv file, \n",
    "###### os to handle files and folders"
   ]
  },
  {
   "cell_type": "code",
   "execution_count": 2,
   "id": "ed9184e0-09f7-412b-b6b4-7505503dae6a",
   "metadata": {},
   "outputs": [],
   "source": [
    "video_capture = cv2.VideoCapture(0)"
   ]
  },
  {
   "cell_type": "markdown",
   "id": "34b4ac12-7cf4-4ed6-834f-2ff16a38119c",
   "metadata": {},
   "source": [
    "Videocapture is a method of opencv that takes input (here source is 0 or default webcam)"
   ]
  },
  {
   "cell_type": "code",
   "execution_count": 3,
   "id": "f059fa2d-9e71-4d50-b8a5-4210410977cb",
   "metadata": {},
   "outputs": [],
   "source": [
    "bhadri_image = face_recognition.load_image_file(\"/Users/bhadrinath/Documents/SEM-VI/Visual Analysis/students/bhadrinath.jpg\")\n",
    "bhadri_encoding = face_recognition.face_encodings(bhadri_image)[0]\n",
    "\n",
    "teja_image = face_recognition.load_image_file(\"/Users/bhadrinath/Documents/SEM-VI/Visual Analysis/students/teja.jpg\")\n",
    "teja_encoding = face_recognition.face_encodings(teja_image)[0]\n",
    "\n",
    "varush_image = face_recognition.load_image_file(\"/Users/bhadrinath/Documents/SEM-VI/Visual Analysis/students/varush.jpg\")\n",
    "varush_encoding = face_recognition.face_encodings(varush_image)[0]\n",
    "\n",
    "pari_image = face_recognition.load_image_file(\"/Users/bhadrinath/Documents/SEM-VI/Visual Analysis/students/pari.jpg\")\n",
    "pari_encoding = face_recognition.face_encodings(pari_image)[0]"
   ]
  },
  {
   "cell_type": "code",
   "execution_count": 4,
   "id": "1d6f56de-a16b-438b-94b9-77671696f01c",
   "metadata": {},
   "outputs": [],
   "source": [
    "known_face_encoding = [\n",
    "bhadri_encoding,\n",
    "teja_encoding,\n",
    "varush_encoding,\n",
    "pari_encoding\n",
    "]\n",
    "\n",
    "known_faces_names = [\n",
    "\"bhadri\",\n",
    "\"teja\",\n",
    "\"varush\",\n",
    "\"pari\"\n",
    "]"
   ]
  },
  {
   "cell_type": "markdown",
   "id": "fbd66d8d-00d1-4d62-9267-518feed2505e",
   "metadata": {},
   "source": [
    "load_image_file is used to load images face_encodings will create encoded data for that image that face_recognition package will use for performing operations, we have 4 faces in our example to recognize, known_face_encoding is the list of encoding of all the 4 faces , known_faces_names is name of all of them"
   ]
  },
  {
   "cell_type": "code",
   "execution_count": 5,
   "id": "4d34bc16-16b7-4071-8b79-56bfc4bd4235",
   "metadata": {},
   "outputs": [],
   "source": [
    "students = known_faces_names.copy()\n",
    " \n",
    "face_locations = []\n",
    "face_encodings = []\n",
    "face_names = []\n",
    "s=True\n",
    " \n",
    " \n",
    "now = datetime.now()\n",
    "current_date = now.strftime(\"%Y-%m-%d\")\n",
    " \n",
    " \n",
    " \n",
    "f = open(current_date+'.csv','w+',newline = '')\n",
    "lnwriter = csv.writer(f)\n",
    " \n",
    "while True:\n",
    "    _,frame = video_capture.read()\n",
    "    small_frame = cv2.resize(frame,(0,0),fx=0.25,fy=0.25)\n",
    "    rgb_small_frame = small_frame\n",
    "    if s:\n",
    "        face_locations = face_recognition.face_locations(rgb_small_frame)\n",
    "        face_encodings = face_recognition.face_encodings(rgb_small_frame,face_locations)\n",
    "        face_names = []\n",
    "        for face_encoding in face_encodings:\n",
    "            matches = face_recognition.compare_faces(known_face_encoding,face_encoding)\n",
    "            name=\"\"\n",
    "            face_distance = face_recognition.face_distance(known_face_encoding,face_encoding)\n",
    "            best_match_index = np.argmin(face_distance)\n",
    "            if matches[best_match_index]:\n",
    "                name = known_faces_names[best_match_index]\n",
    " \n",
    "            face_names.append(name)\n",
    "            if name in known_faces_names:\n",
    "                font = cv2.FONT_HERSHEY_SIMPLEX\n",
    "                bottomLeftCornerOfText = (10,100)\n",
    "                fontScale              = 1.5\n",
    "                fontColor              = (255,0,0)\n",
    "                thickness              = 3\n",
    "                lineType               = 2\n",
    " \n",
    "                cv2.putText(frame,name+' '+' Present', \n",
    "                    bottomLeftCornerOfText, \n",
    "                    font, \n",
    "                    fontScale,\n",
    "                    fontColor,\n",
    "                    thickness,\n",
    "                    lineType)\n",
    " \n",
    "                if name in students:\n",
    "\n",
    "#                    print(students)\n",
    "                    if(face_distance[best_match_index]*100>30):\n",
    "                       students.remove(name)\n",
    "                       current_time = now.strftime(\"%H:%M:%S\")\n",
    "                       lnwriter.writerow([name, current_date, current_time])\n",
    "    cv2.imshow(\"attendence system\",frame)\n",
    "    if cv2.waitKey(1) & 0xFF == ord('q'):\n",
    "        break\n",
    " \n",
    "video_capture.release()\n",
    "cv2.destroyAllWindows()\n",
    "f.close()"
   ]
  },
  {
   "cell_type": "markdown",
   "id": "ebd341cc-187b-4c60-a9f3-1b458c6ce73a",
   "metadata": {},
   "source": [
    "students is a copy of know faces that we will use mark the attendance (basically we will remove names that are present), face_locations, face_encodings, face_names are empty lists for input image (we will compare with specific recognized face for recognition), current time is current time (as the name suggests) we will use this for accurate attendance, f is the variable having all the data of current date csv file and we are opening it with write mode, lnwriter is write variable on f\n",
    "\n"
   ]
  },
  {
   "cell_type": "markdown",
   "id": "95d6d995-bf63-4c65-b280-0e7cb53901c1",
   "metadata": {},
   "source": [
    "we have created a infinite loop and store the incoming frame into frame variable , a new small frame variable is created to store resized image and the scale of decrement is 0.25% on both x and y rgb_small_variable will store the rgb equivalent of the small frame, we need this as face_recognition package used rgb format ,face_locations and face_encodings variables will store the face encoding and locations of incoming frames"
   ]
  },
  {
   "cell_type": "markdown",
   "id": "25acb897-6e8e-48ed-a381-9e53ae548581",
   "metadata": {},
   "source": [
    "we have created a for loop to iterate on face_encoding values and inside for looop we will compare incoming encoding and locations with know ones and if its present we will recognise what is the name of that face (for more detailed explanation watch the video) after that we will append that name into face_names list and display a text on the video output with name , font is saved in fonts variable , and opencv will use putText to actually put that text"
   ]
  },
  {
   "cell_type": "markdown",
   "id": "438185f0-922b-4ac2-bc40-a04992693d6b",
   "metadata": {},
   "source": [
    "if the name is present in students list remove it from there as the student is marked as present once , current time is updated in the csv using date time package , the final task is to display the user video stream and also a exit condition which in this case is press of button ‘q’, after this the only thing left is to release the video capture (close video input stream) destroy all opened windows and close the opened file"
   ]
  },
  {
   "cell_type": "code",
   "execution_count": null,
   "id": "7197c6e1-c861-4018-9805-5862fc39c413",
   "metadata": {},
   "outputs": [],
   "source": []
  }
 ],
 "metadata": {
  "kernelspec": {
   "display_name": "Python 3 (ipykernel)",
   "language": "python",
   "name": "python3"
  },
  "language_info": {
   "codemirror_mode": {
    "name": "ipython",
    "version": 3
   },
   "file_extension": ".py",
   "mimetype": "text/x-python",
   "name": "python",
   "nbconvert_exporter": "python",
   "pygments_lexer": "ipython3",
   "version": "3.8.5"
  }
 },
 "nbformat": 4,
 "nbformat_minor": 5
}
